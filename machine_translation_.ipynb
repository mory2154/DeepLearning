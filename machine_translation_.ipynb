{
  "cells": [
    {
      "cell_type": "markdown",
      "metadata": {
        "id": "AP7how5H3ziG"
      },
      "source": [
        "# Artificial Intelligence Nanodegree\n",
        "## Machine Translation Project\n",
        "In this notebook, sections that end with **'(IMPLEMENTATION)'** in the header indicate that the following blocks of code will require additional functionality which you must provide. Please be sure to read the instructions carefully!\n",
        "\n",
        "## Introduction\n",
        "In this notebook, you will build a deep neural network that functions as part of an end-to-end machine translation pipeline. Your completed pipeline will accept English text as input and return the French translation.\n",
        "\n",
        "- **Preprocess** - You'll convert text to sequence of integers.\n",
        "- **Models** Create models which accepts a sequence of integers as input and returns a probability distribution over possible translations. After learning about the basic types of neural networks that are often used for machine translation, you will engage in your own investigations, to design your own model!\n",
        "- **Prediction** Run the model on English text."
      ]
    },
    {
      "cell_type": "code",
      "execution_count": 1,
      "metadata": {
        "id": "b-efEH0U3ziJ"
      },
      "outputs": [],
      "source": [
        "%load_ext autoreload\n",
        "%aimport helper, tests\n",
        "%autoreload 1"
      ]
    },
    {
      "cell_type": "code",
      "execution_count": 3,
      "metadata": {
        "id": "eteQc2793ziK"
      },
      "outputs": [],
      "source": [
        "import collections\n",
        "\n",
        "import helper\n",
        "import numpy as np\n",
        "import project_tests as tests\n",
        "\n",
        "import tensorflow as tf\n",
        "from keras.preprocessing.text import Tokenizer\n",
        "from keras.preprocessing.sequence import pad_sequences\n",
        "from keras.models import Model\n",
        "from keras.layers import GRU, Input, Dense, TimeDistributed, Activation, RepeatVector, Bidirectional\n",
        "from keras.layers import Embedding\n",
        "from keras.optimizers import Adam\n",
        "from keras.losses import sparse_categorical_crossentropy"
      ]
    },
    {
      "cell_type": "markdown",
      "metadata": {
        "id": "EedtXAwc3ziL"
      },
      "source": [
        "### Verify access to the GPU\n",
        "The following test applies only if you expect to be using a GPU, e.g., while running in a Udacity Workspace or using an AWS instance with GPU support. Run the next cell, and verify that the device_type is \"GPU\".\n",
        "- If the device is not GPU & you are running from a Udacity Workspace, then save your workspace with the icon at the top, then click \"enable\" at the bottom of the workspace.\n",
        "- If the device is not GPU & you are running from an AWS instance, then refer to the cloud computing instructions in the classroom to verify your setup steps."
      ]
    },
    {
      "cell_type": "code",
      "execution_count": 4,
      "metadata": {
        "colab": {
          "base_uri": "https://localhost:8080/"
        },
        "id": "yI3DgJ9k3ziM",
        "outputId": "16920f0c-9b8c-4603-be1d-e675c7b9e84f"
      },
      "outputs": [
        {
          "output_type": "stream",
          "name": "stdout",
          "text": [
            "[name: \"/device:CPU:0\"\n",
            "device_type: \"CPU\"\n",
            "memory_limit: 268435456\n",
            "locality {\n",
            "}\n",
            "incarnation: 12558782133174021529\n",
            "xla_global_id: -1\n",
            ", name: \"/device:GPU:0\"\n",
            "device_type: \"GPU\"\n",
            "memory_limit: 14357954560\n",
            "locality {\n",
            "  bus_id: 1\n",
            "  links {\n",
            "  }\n",
            "}\n",
            "incarnation: 2926767800683889858\n",
            "physical_device_desc: \"device: 0, name: Tesla T4, pci bus id: 0000:00:04.0, compute capability: 7.5\"\n",
            "xla_global_id: 416903419\n",
            "]\n"
          ]
        }
      ],
      "source": [
        "from tensorflow.python.client import device_lib\n",
        "print(device_lib.list_local_devices())"
      ]
    },
    {
      "cell_type": "code",
      "execution_count": 5,
      "metadata": {
        "colab": {
          "base_uri": "https://localhost:8080/"
        },
        "id": "sG88vkZs3ziM",
        "outputId": "ff613c20-5ec8-415b-ebcb-a6caa5b63e6a"
      },
      "outputs": [
        {
          "output_type": "stream",
          "name": "stdout",
          "text": [
            "Python 3.10.12 (main, Jun 11 2023, 05:26:28) [GCC 11.4.0]\n",
            "Tensorflow version 2.14.0\n",
            "Keras version 2.14.0\n"
          ]
        }
      ],
      "source": [
        "# Add-on : Check framework versions being used\n",
        "import tensorflow as tf\n",
        "import keras as K\n",
        "import sys\n",
        "print(\"Python\", sys.version)\n",
        "print(\"Tensorflow version\", tf.__version__)\n",
        "print(\"Keras version\", K.__version__)"
      ]
    },
    {
      "cell_type": "markdown",
      "metadata": {
        "id": "dNQm0y4l3ziM"
      },
      "source": [
        "## Dataset\n",
        "We begin by investigating the dataset that will be used to train and evaluate your pipeline.  The most common datasets used for machine translation are from [WMT](http://www.statmt.org/).  However, that will take a long time to train a neural network on.  We'll be using a dataset we created for this project that contains a small vocabulary.  You'll be able to train your model in a reasonable time with this dataset.\n",
        "### Load Data\n",
        "The data is located in `data/small_vocab_en` and `data/small_vocab_fr`. The `small_vocab_en` file contains English sentences with their French translations in the `small_vocab_fr` file. Load the English and French data from these files from running the cell below."
      ]
    },
    {
      "cell_type": "code",
      "execution_count": 8,
      "metadata": {
        "colab": {
          "base_uri": "https://localhost:8080/"
        },
        "id": "wSlzMx6f3ziN",
        "outputId": "18ce9821-b3bd-4c6f-e97d-cc9de9bb1b58"
      },
      "outputs": [
        {
          "output_type": "stream",
          "name": "stdout",
          "text": [
            "Dataset Loaded\n"
          ]
        }
      ],
      "source": [
        "# Remark : Encoding UTF-8 has been fixed in helper.py\n",
        "\n",
        "# Load English data\n",
        "english_sentences = helper.load_data('small_vocab_en')\n",
        "# Load French data\n",
        "french_sentences = helper.load_data('small_vocab_fr')\n",
        "\n",
        "print('Dataset Loaded')"
      ]
    },
    {
      "cell_type": "markdown",
      "metadata": {
        "id": "DFr5-hkT3ziN"
      },
      "source": [
        "### Files\n",
        "Each line in `small_vocab_en` contains an English sentence with the respective translation in each line of `small_vocab_fr`.  View the first two lines from each file."
      ]
    },
    {
      "cell_type": "code",
      "execution_count": 64,
      "metadata": {
        "colab": {
          "base_uri": "https://localhost:8080/"
        },
        "id": "8OKaGdJT3ziN",
        "outputId": "d19ab7e3-882f-4c81-b944-ae7386a87807"
      },
      "outputs": [
        {
          "output_type": "stream",
          "name": "stdout",
          "text": [
            "small_vocab_en Line 3:  california is usually quiet during march , and it is usually hot in june .\n",
            "small_vocab_fr Line 3:  california est généralement calme en mars , et il est généralement chaud en juin .\n",
            "small_vocab_en Line 4:  the united states is sometimes mild during june , and it is cold in september .\n",
            "small_vocab_fr Line 4:  les états-unis est parfois légère en juin , et il fait froid en septembre .\n",
            "small_vocab_en Line 5:  your least liked fruit is the grape , but my least liked is the apple .\n",
            "small_vocab_fr Line 5:  votre moins aimé fruit est le raisin , mais mon moins aimé est la pomme .\n",
            "small_vocab_en Line 6:  his favorite fruit is the orange , but my favorite is the grape .\n",
            "small_vocab_fr Line 6:  son fruit préféré est l'orange , mais mon préféré est le raisin .\n",
            "small_vocab_en Line 7:  paris is relaxing during december , but it is usually chilly in july .\n",
            "small_vocab_fr Line 7:  paris est relaxant en décembre , mais il est généralement froid en juillet .\n",
            "small_vocab_en Line 8:  new jersey is busy during spring , and it is never hot in march .\n",
            "small_vocab_fr Line 8:  new jersey est occupé au printemps , et il est jamais chaude en mars .\n",
            "small_vocab_en Line 9:  our least liked fruit is the lemon , but my least liked is the grape .\n",
            "small_vocab_fr Line 9:  notre fruit est moins aimé le citron , mais mon moins aimé est le raisin .\n",
            "small_vocab_en Line 10:  the united states is sometimes busy during january , and it is sometimes warm in november .\n",
            "small_vocab_fr Line 10:  les états-unis est parfois occupé en janvier , et il est parfois chaud en novembre .\n"
          ]
        }
      ],
      "source": [
        "for sample_i in range(2,10):\n",
        "    print('small_vocab_en Line {}:  {}'.format(sample_i + 1, english_sentences[sample_i]))\n",
        "    print('small_vocab_fr Line {}:  {}'.format(sample_i + 1, french_sentences[sample_i]))"
      ]
    },
    {
      "cell_type": "markdown",
      "metadata": {
        "id": "qpDcRiXn3ziO"
      },
      "source": [
        "From looking at the sentences, you can see they have been preprocessed already.  The puncuations have been delimited using spaces. All the text have been converted to lowercase.  This should save you some time, but the text requires more preprocessing.\n",
        "### Vocabulary\n",
        "The complexity of the problem is determined by the complexity of the vocabulary.  A more complex vocabulary is a more complex problem.  Let's look at the complexity of the dataset we'll be working with."
      ]
    },
    {
      "cell_type": "code",
      "execution_count": 15,
      "metadata": {
        "colab": {
          "base_uri": "https://localhost:8080/"
        },
        "id": "s4ccqm313ziO",
        "outputId": "53db1d49-bd7c-4a2a-8064-d6dc2c030edf"
      },
      "outputs": [
        {
          "output_type": "stream",
          "name": "stdout",
          "text": [
            "1823250 English words.\n",
            "227 unique English words.\n",
            "10 Most common words in the English dataset:\n",
            "\"is\" \",\" \".\" \"in\" \"it\" \"during\" \"the\" \"but\" \"and\" \"sometimes\"\n",
            "\n",
            "1961295 French words.\n",
            "355 unique French words.\n",
            "10 Most common words in the French dataset:\n",
            "\"est\" \".\" \",\" \"en\" \"il\" \"les\" \"mais\" \"et\" \"la\" \"parfois\"\n"
          ]
        }
      ],
      "source": [
        "english_words_counter = collections.Counter([word for sentence in english_sentences for word in sentence.split()])\n",
        "french_words_counter = collections.Counter([word for sentence in french_sentences for word in sentence.split()])\n",
        "\n",
        "print('{} English words.'.format(len([word for sentence in english_sentences for word in sentence.split()])))\n",
        "print('{} unique English words.'.format(len(english_words_counter)))\n",
        "print('10 Most common words in the English dataset:')\n",
        "print('\"' + '\" \"'.join(list(zip(*english_words_counter.most_common(10)))[0]) + '\"')\n",
        "print()\n",
        "print('{} French words.'.format(len([word for sentence in french_sentences for word in sentence.split()])))\n",
        "print('{} unique French words.'.format(len(french_words_counter)))\n",
        "print('10 Most common words in the French dataset:')\n",
        "print('\"' + '\" \"'.join(list(zip(*french_words_counter.most_common(10)))[0]) + '\"')"
      ]
    },
    {
      "cell_type": "markdown",
      "metadata": {
        "id": "2Wnh_SVd3ziO"
      },
      "source": [
        "For comparison, _Alice's Adventures in Wonderland_ contains 2,766 unique words of a total of 15,500 words.\n",
        "## Preprocess\n",
        "For this project, you won't use text data as input to your model. Instead, you'll convert the text into sequences of integers using the following preprocess methods:\n",
        "1. Tokenize the words into ids\n",
        "2. Add padding to make all the sequences the same length.\n",
        "\n",
        "Time to start preprocessing the data...\n",
        "### Tokenize (IMPLEMENTATION)\n",
        "For a neural network to predict on text data, it first has to be turned into data it can understand. Text data like \"dog\" is a sequence of ASCII character encodings.  Since a neural network is a series of multiplication and addition operations, the input data needs to be number(s).\n",
        "\n",
        "We can turn each character into a number or each word into a number.  These are called character and word ids, respectively.  Character ids are used for character level models that generate text predictions for each character.  A word level model uses word ids that generate text predictions for each word.  Word level models tend to learn better, since they are lower in complexity, so we'll use those.\n",
        "\n",
        "Turn each sentence into a sequence of words ids using Keras's [`Tokenizer`](https://keras.io/preprocessing/text/#tokenizer) function. Use this function to tokenize `english_sentences` and `french_sentences` in the cell below.\n",
        "\n",
        "Running the cell will run `tokenize` on sample data and show output for debugging."
      ]
    },
    {
      "cell_type": "code",
      "execution_count": 17,
      "metadata": {
        "colab": {
          "base_uri": "https://localhost:8080/"
        },
        "id": "NFr9dtWM3ziO",
        "outputId": "3cb4ad82-cabe-45a7-b73d-f4b865f7cd15"
      },
      "outputs": [
        {
          "output_type": "stream",
          "name": "stdout",
          "text": [
            "{'the': 1, 'quick': 2, 'a': 3, 'brown': 4, 'fox': 5, 'jumps': 6, 'over': 7, 'lazy': 8, 'dog': 9, 'by': 10, 'jove': 11, 'my': 12, 'study': 13, 'of': 14, 'lexicography': 15, 'won': 16, 'prize': 17, 'this': 18, 'is': 19, 'short': 20, 'sentence': 21}\n",
            "\n",
            "Sequence 1 in x\n",
            "  Input:  The quick brown fox jumps over the lazy dog .\n",
            "  Output: [1, 2, 4, 5, 6, 7, 1, 8, 9]\n",
            "Sequence 2 in x\n",
            "  Input:  By Jove , my quick study of lexicography won a prize .\n",
            "  Output: [10, 11, 12, 2, 13, 14, 15, 16, 3, 17]\n",
            "Sequence 3 in x\n",
            "  Input:  This is a short sentence .\n",
            "  Output: [18, 19, 3, 20, 21]\n"
          ]
        }
      ],
      "source": [
        "def tokenize(x):\n",
        "    \"\"\"\n",
        "    Tokenize x\n",
        "    :param x: List of sentences/strings to be tokenized\n",
        "    :return: Tuple of (tokenized x data, tokenizer used to tokenize x)\n",
        "    \"\"\"\n",
        "    # TODO: Implement\n",
        "\n",
        "    x_tk = Tokenizer()\n",
        "    x_tk.fit_on_texts(x)\n",
        "    return x_tk.texts_to_sequences(x), x_tk\n",
        "\n",
        "#tests.test_tokenize(tokenize)\n",
        "\n",
        "# Tokenize Example output\n",
        "text_sentences = [\n",
        "    'The quick brown fox jumps over the lazy dog .',\n",
        "    'By Jove , my quick study of lexicography won a prize .',\n",
        "    'This is a short sentence .']\n",
        "text_tokenized, text_tokenizer = tokenize(text_sentences)\n",
        "print(text_tokenizer.word_index)\n",
        "print()\n",
        "for sample_i, (sent, token_sent) in enumerate(zip(text_sentences, text_tokenized)):\n",
        "    print('Sequence {} in x'.format(sample_i + 1))\n",
        "    print('  Input:  {}'.format(sent))\n",
        "    print('  Output: {}'.format(token_sent))"
      ]
    },
    {
      "cell_type": "markdown",
      "metadata": {
        "id": "3WQox0zy3ziP"
      },
      "source": [
        "### Padding (IMPLEMENTATION)\n",
        "When batching the sequence of word ids together, each sequence needs to be the same length.  Since sentences are dynamic in length, we can add padding to the end of the sequences to make them the same length.\n",
        "\n",
        "Make sure all the English sequences have the same length and all the French sequences have the same length by adding padding to the **end** of each sequence using Keras's [`pad_sequences`](https://keras.io/preprocessing/sequence/#pad_sequences) function."
      ]
    },
    {
      "cell_type": "code",
      "execution_count": 18,
      "metadata": {
        "colab": {
          "base_uri": "https://localhost:8080/"
        },
        "id": "KBJHKy5u3ziP",
        "outputId": "95796984-0169-43bb-fb62-df10656b82ab"
      },
      "outputs": [
        {
          "output_type": "stream",
          "name": "stdout",
          "text": [
            "Sequence 1 in x\n",
            "  Input:  [1 2 4 5 6 7 1 8 9]\n",
            "  Output: [1 2 4 5 6 7 1 8 9 0]\n",
            "Sequence 2 in x\n",
            "  Input:  [10 11 12  2 13 14 15 16  3 17]\n",
            "  Output: [10 11 12  2 13 14 15 16  3 17]\n",
            "Sequence 3 in x\n",
            "  Input:  [18 19  3 20 21]\n",
            "  Output: [18 19  3 20 21  0  0  0  0  0]\n"
          ]
        }
      ],
      "source": [
        "def pad(x, length=None):\n",
        "    \"\"\"\n",
        "    Pad x\n",
        "    :param x: List of sequences.\n",
        "    :param length: Length to pad the sequence to.  If None, use length of longest sequence in x.\n",
        "    :return: Padded numpy array of sequences\n",
        "    \"\"\"\n",
        "    # TODO: Implement\n",
        "    if length is None:\n",
        "        # Find the length of the longest sequence/sentence\n",
        "        length = max([len(seq) for seq in x])\n",
        "\n",
        "    return pad_sequences(sequences=x, maxlen=length, padding='post')\n",
        "\n",
        "\n",
        "\n",
        "# Pad Tokenized output\n",
        "test_pad = pad(text_tokenized)\n",
        "for sample_i, (token_sent, pad_sent) in enumerate(zip(text_tokenized, test_pad)):\n",
        "    print('Sequence {} in x'.format(sample_i + 1))\n",
        "    print('  Input:  {}'.format(np.array(token_sent)))\n",
        "    print('  Output: {}'.format(pad_sent))"
      ]
    },
    {
      "cell_type": "markdown",
      "metadata": {
        "id": "vmnYiq-w3ziP"
      },
      "source": [
        "### Preprocess Pipeline\n",
        "Your focus for this project is to build neural network architecture, so we won't ask you to create a preprocess pipeline.  Instead, we've provided you with the implementation of the `preprocess` function."
      ]
    },
    {
      "cell_type": "code",
      "execution_count": 19,
      "metadata": {
        "colab": {
          "base_uri": "https://localhost:8080/"
        },
        "id": "_PAn1oHF3ziP",
        "outputId": "2e206ab4-0f3a-4575-f755-6f89b0c3310e"
      },
      "outputs": [
        {
          "output_type": "stream",
          "name": "stdout",
          "text": [
            "Data Preprocessed\n",
            "Max English sentence length: 15\n",
            "Max French sentence length: 21\n",
            "English vocabulary size: 199\n",
            "French vocabulary size: 344\n"
          ]
        }
      ],
      "source": [
        "def preprocess(x, y):\n",
        "    \"\"\"\n",
        "    Preprocess x and y\n",
        "    :param x: Feature List of sentences\n",
        "    :param y: Label List of sentences\n",
        "    :return: Tuple of (Preprocessed x, Preprocessed y, x tokenizer, y tokenizer)\n",
        "    \"\"\"\n",
        "    preprocess_x, x_tk = tokenize(x)\n",
        "    preprocess_y, y_tk = tokenize(y)\n",
        "\n",
        "    preprocess_x = pad(preprocess_x)\n",
        "    preprocess_y = pad(preprocess_y)\n",
        "\n",
        "    # Keras's sparse_categorical_crossentropy function requires the labels to be in 3 dimensions\n",
        "    preprocess_y = preprocess_y.reshape(*preprocess_y.shape, 1)\n",
        "\n",
        "    return preprocess_x, preprocess_y, x_tk, y_tk\n",
        "\n",
        "preproc_english_sentences, preproc_french_sentences, english_tokenizer, french_tokenizer =\\\n",
        "    preprocess(english_sentences, french_sentences)\n",
        "\n",
        "max_english_sequence_length = preproc_english_sentences.shape[1]\n",
        "max_french_sequence_length = preproc_french_sentences.shape[1]\n",
        "english_vocab_size = len(english_tokenizer.word_index)\n",
        "french_vocab_size = len(french_tokenizer.word_index)\n",
        "\n",
        "print('Data Preprocessed')\n",
        "print(\"Max English sentence length:\", max_english_sequence_length)\n",
        "print(\"Max French sentence length:\", max_french_sequence_length)\n",
        "print(\"English vocabulary size:\", english_vocab_size)\n",
        "print(\"French vocabulary size:\", french_vocab_size)"
      ]
    },
    {
      "cell_type": "markdown",
      "metadata": {
        "id": "40EklqXO3ziP"
      },
      "source": [
        "## Models\n",
        "In this section, you will experiment with various neural network architectures.\n",
        "You will begin by training four relatively simple architectures.\n",
        "- Model 1 is a simple RNN\n",
        "- Model 2 is a RNN with Embedding\n",
        "- Model 3 is a Bidirectional RNN\n",
        "- Model 4 is an optional Encoder-Decoder RNN\n",
        "\n",
        "After experimenting with the four simple architectures, you will construct a deeper architecture that is designed to outperform all four models.\n",
        "### Ids Back to Text\n",
        "The neural network will be translating the input to words ids, which isn't the final form we want.  We want the French translation.  The function `logits_to_text` will bridge the gab between the logits from the neural network to the French translation.  You'll be using this function to better understand the output of the neural network."
      ]
    },
    {
      "cell_type": "code",
      "execution_count": 24,
      "metadata": {
        "colab": {
          "base_uri": "https://localhost:8080/"
        },
        "id": "V4zPNXIN3ziP",
        "outputId": "379c97ca-02c6-495c-d409-1473c93f2fe4"
      },
      "outputs": [
        {
          "output_type": "stream",
          "name": "stdout",
          "text": [
            "`logits_to_text` function loaded.\n"
          ]
        }
      ],
      "source": [
        "def logits_to_text(logits, tokenizer):\n",
        "    \"\"\"\n",
        "    Turn logits from a neural network into text using the tokenizer\n",
        "    :param logits: Logits from a neural network\n",
        "    :param tokenizer: Keras Tokenizer fit on the labels\n",
        "    :return: String that represents the text of the logits\n",
        "    \"\"\"\n",
        "    index_to_words = {id: word for word, id in tokenizer.word_index.items()}\n",
        "    index_to_words[0] = '<PAD>'\n",
        "\n",
        "    return ' '.join([index_to_words[prediction] for prediction in np.argmax(logits, 1)])\n",
        "\n",
        "print('`logits_to_text` function loaded.')"
      ]
    },
    {
      "cell_type": "code",
      "execution_count": 25,
      "metadata": {
        "id": "64aMzSLL3ziQ"
      },
      "outputs": [],
      "source": [
        "# Add-on : Collect logs for Tensorboard\n",
        "from keras.callbacks import TensorBoard\n",
        "from time import time\n",
        "tensorboard = TensorBoard(log_dir=\"logs/{}\".format(time()), histogram_freq=1, write_graph=True)"
      ]
    },
    {
      "cell_type": "markdown",
      "metadata": {
        "id": "JFM6yXmV3ziQ"
      },
      "source": [
        "### Model 1: RNN (IMPLEMENTATION)\n",
        "![RNN](images/rnn.png)\n",
        "A basic RNN model is a good baseline for sequence data.  In this model, you'll build a RNN that translates English to French."
      ]
    },
    {
      "cell_type": "code",
      "execution_count": 26,
      "metadata": {
        "colab": {
          "base_uri": "https://localhost:8080/"
        },
        "id": "zSEyNUXt3ziQ",
        "outputId": "86d94a27-5f7b-48f7-dac2-71fda58f9627"
      },
      "outputs": [
        {
          "output_type": "stream",
          "name": "stderr",
          "text": [
            "WARNING:absl:`lr` is deprecated in Keras optimizer, please use `learning_rate` or use the legacy optimizer, e.g.,tf.keras.optimizers.legacy.Adam.\n"
          ]
        },
        {
          "output_type": "stream",
          "name": "stdout",
          "text": [
            "Epoch 1/10\n",
            "108/108 [==============================] - 9s 26ms/step - loss: 2.7039 - accuracy: 0.4629 - val_loss: 2.0713 - val_accuracy: 0.5280\n",
            "Epoch 2/10\n",
            "108/108 [==============================] - 2s 20ms/step - loss: 1.7915 - accuracy: 0.5658 - val_loss: 1.6104 - val_accuracy: 0.5827\n",
            "Epoch 3/10\n",
            "108/108 [==============================] - 2s 22ms/step - loss: 1.5243 - accuracy: 0.5967 - val_loss: 1.4479 - val_accuracy: 0.6088\n",
            "Epoch 4/10\n",
            "108/108 [==============================] - 2s 22ms/step - loss: 1.3906 - accuracy: 0.6196 - val_loss: 1.3367 - val_accuracy: 0.6303\n",
            "Epoch 5/10\n",
            "108/108 [==============================] - 2s 21ms/step - loss: 1.2930 - accuracy: 0.6371 - val_loss: 1.2494 - val_accuracy: 0.6448\n",
            "Epoch 6/10\n",
            "108/108 [==============================] - 2s 21ms/step - loss: 1.2152 - accuracy: 0.6502 - val_loss: 1.1815 - val_accuracy: 0.6534\n",
            "Epoch 7/10\n",
            "108/108 [==============================] - 2s 21ms/step - loss: 1.1574 - accuracy: 0.6599 - val_loss: 1.1341 - val_accuracy: 0.6620\n",
            "Epoch 8/10\n",
            "108/108 [==============================] - 2s 21ms/step - loss: 1.1142 - accuracy: 0.6653 - val_loss: 1.0971 - val_accuracy: 0.6669\n",
            "Epoch 9/10\n",
            "108/108 [==============================] - 2s 22ms/step - loss: 1.0808 - accuracy: 0.6694 - val_loss: 1.0674 - val_accuracy: 0.6698\n",
            "Epoch 10/10\n",
            "108/108 [==============================] - 2s 21ms/step - loss: 1.0515 - accuracy: 0.6734 - val_loss: 1.0409 - val_accuracy: 0.6768\n",
            "1/1 [==============================] - 0s 319ms/step\n",
            "new jersey est parfois calme en mois et il est est en en <PAD> <PAD> <PAD> <PAD> <PAD> <PAD> <PAD> <PAD>\n"
          ]
        }
      ],
      "source": [
        "def simple_model(input_shape, output_sequence_length, english_vocab_size, french_vocab_size):\n",
        "    \"\"\"\n",
        "    Build and train a basic RNN on x and y\n",
        "    :param input_shape: Tuple of input shape\n",
        "    :param output_sequence_length: Length of output sequence\n",
        "    :param english_vocab_size: Number of unique English words in the dataset\n",
        "    :param french_vocab_size: Number of unique French words in the dataset\n",
        "    :return: Keras model built, but not trained\n",
        "    \"\"\"\n",
        "    # TODO: Build the layers\n",
        "\n",
        "    input_seq = Input(shape=input_shape[1:])\n",
        "    rnn = GRU(units=english_vocab_size, return_sequences=True)(input_seq)\n",
        "    logits = TimeDistributed(Dense(units=french_vocab_size))(rnn)\n",
        "\n",
        "    model = Model(input_seq, Activation('softmax')(logits))\n",
        "\n",
        "    model.compile(loss=sparse_categorical_crossentropy,\n",
        "                  optimizer=Adam(lr=1e-3),\n",
        "                  metrics=['accuracy'])\n",
        "    return model\n",
        "\n",
        "#tests.test_simple_model(simple_model)\n",
        "\n",
        "# Pad and Reshape the input to work with a basic RNN\n",
        "tmp_x = pad(preproc_english_sentences, max_french_sequence_length)\n",
        "tmp_x = tmp_x.reshape((-1, preproc_french_sentences.shape[-2], 1))\n",
        "\n",
        "# Train the neural network\n",
        "simple_rnn_model = simple_model(\n",
        "    tmp_x.shape,\n",
        "    max_french_sequence_length,\n",
        "    english_vocab_size+1,\n",
        "    french_vocab_size+1)\n",
        "\n",
        "simple_rnn_model.fit(tmp_x, preproc_french_sentences, batch_size=1024, epochs=10, validation_split=0.2)\n",
        "\n",
        "# Print prediction(s)\n",
        "print(logits_to_text(simple_rnn_model.predict(tmp_x[:1])[0], french_tokenizer))"
      ]
    },
    {
      "cell_type": "markdown",
      "metadata": {
        "id": "vV7tqaHU3ziQ"
      },
      "source": [
        "### Model 2: Embedding (IMPLEMENTATION)\n",
        "![RNN](images/embedding.png)\n",
        "You've turned the words into ids, but there's a better representation of a word.  This is called word embeddings.  An embedding is a vector representation of the word that is close to similar words in n-dimensional space, where the n represents the size of the embedding vectors.\n",
        "\n",
        "In this model, you'll create a RNN model using embedding."
      ]
    },
    {
      "cell_type": "code",
      "execution_count": 28,
      "metadata": {
        "colab": {
          "base_uri": "https://localhost:8080/"
        },
        "id": "49vbshfz3ziQ",
        "outputId": "9e533621-06fe-41cf-b4ec-ec3fcc2d7c74"
      },
      "outputs": [
        {
          "output_type": "stream",
          "name": "stderr",
          "text": [
            "WARNING:absl:`lr` is deprecated in Keras optimizer, please use `learning_rate` or use the legacy optimizer, e.g.,tf.keras.optimizers.legacy.Adam.\n"
          ]
        },
        {
          "output_type": "stream",
          "name": "stdout",
          "text": [
            "Epoch 1/10\n",
            "108/108 [==============================] - 8s 50ms/step - loss: 3.1994 - accuracy: 0.4232 - val_loss: 2.4785 - val_accuracy: 0.4906\n",
            "Epoch 2/10\n",
            "108/108 [==============================] - 3s 26ms/step - loss: 1.9735 - accuracy: 0.5635 - val_loss: 1.4696 - val_accuracy: 0.6425\n",
            "Epoch 3/10\n",
            "108/108 [==============================] - 3s 23ms/step - loss: 1.2186 - accuracy: 0.7010 - val_loss: 0.9997 - val_accuracy: 0.7550\n",
            "Epoch 4/10\n",
            "108/108 [==============================] - 3s 26ms/step - loss: 0.8603 - accuracy: 0.7804 - val_loss: 0.7353 - val_accuracy: 0.8034\n",
            "Epoch 5/10\n",
            "108/108 [==============================] - 3s 25ms/step - loss: 0.6551 - accuracy: 0.8180 - val_loss: 0.5847 - val_accuracy: 0.8320\n",
            "Epoch 6/10\n",
            "108/108 [==============================] - 3s 23ms/step - loss: 0.5373 - accuracy: 0.8425 - val_loss: 0.4975 - val_accuracy: 0.8516\n",
            "Epoch 7/10\n",
            "108/108 [==============================] - 2s 23ms/step - loss: 0.4616 - accuracy: 0.8613 - val_loss: 0.4283 - val_accuracy: 0.8712\n",
            "Epoch 8/10\n",
            "108/108 [==============================] - 3s 25ms/step - loss: 0.4065 - accuracy: 0.8756 - val_loss: 0.3810 - val_accuracy: 0.8829\n",
            "Epoch 9/10\n",
            "108/108 [==============================] - 3s 23ms/step - loss: 0.3655 - accuracy: 0.8865 - val_loss: 0.3578 - val_accuracy: 0.8887\n",
            "Epoch 10/10\n",
            "108/108 [==============================] - 2s 23ms/step - loss: 0.3340 - accuracy: 0.8957 - val_loss: 0.3239 - val_accuracy: 0.8993\n",
            "1/1 [==============================] - 0s 326ms/step\n",
            "new jersey est parfois calme en cours et il est est en avril <PAD> <PAD> <PAD> <PAD> <PAD> <PAD> <PAD> <PAD>\n"
          ]
        }
      ],
      "source": [
        "def embed_model(input_shape, output_sequence_length, english_vocab_size, french_vocab_size):\n",
        "    \"\"\"\n",
        "    Build and train a RNN model using word embedding on x and y\n",
        "    :param input_shape: Tuple of input shape\n",
        "    :param output_sequence_length: Length of output sequence\n",
        "    :param english_vocab_size: Number of unique English words in the dataset\n",
        "    :param french_vocab_size: Number of unique French words in the dataset\n",
        "    :return: Keras model built, but not trained\n",
        "    \"\"\"\n",
        "    # TODO: Implement\n",
        "\n",
        "    #print(\"Debug input_shape =\" , input_shape, \"  Input length=\", input_shape[1:][0])\n",
        "    #print(\"Debug output_sequence_length =\" , output_sequence_length)\n",
        "    #print(\"Debug english_vocab_size =\" , english_vocab_size)\n",
        "    #print(\"Debug french_vocab_size =\" , french_vocab_size)\n",
        "\n",
        "    # Hyperparameters\n",
        "    embedding_size = 128\n",
        "    rnn_cells = 200\n",
        "    dropout = 0.0\n",
        "    learning_rate = 1e-3\n",
        "\n",
        "    # Sequential Model\n",
        "    #from keras.models import Sequential\n",
        "    #model = Sequential()\n",
        "    #model.add(Embedding(english_vocab_size, embedding_size, input_length=input_shape[1:][0]))\n",
        "    #model.add(GRU(rnn_cells, dropout=dropout, return_sequences=True))\n",
        "    #model.add(Dense(french_vocab_size, activation='softmax'))\n",
        "    #print(model.summary())\n",
        "\n",
        "    # model's Functional equivalent\n",
        "    input_seq = Input(shape=input_shape[1:])\n",
        "\n",
        "    embedded_seq = Embedding(input_dim = english_vocab_size,\n",
        "                             output_dim = embedding_size,\n",
        "                             input_length=input_shape[1:][0])(input_seq)\n",
        "\n",
        "    rnn = GRU(units=rnn_cells, dropout=dropout, return_sequences=True)(embedded_seq)\n",
        "    logits = TimeDistributed(Dense(units=french_vocab_size))(rnn)\n",
        "    model = Model(input_seq, Activation('softmax')(logits))\n",
        "    #print(model.summary())\n",
        "\n",
        "    model.compile(loss=sparse_categorical_crossentropy,\n",
        "                  optimizer=Adam(lr=learning_rate),\n",
        "                  metrics=['accuracy'])\n",
        "    return model\n",
        "\n",
        "#tests.test_embed_model(embed_model)\n",
        "\n",
        "\n",
        "# Pad the input to work with the Embedding layer\n",
        "tmp_x = pad(preproc_english_sentences, max_french_sequence_length)\n",
        "#print(\"Debug tmp_x shape=\", tmp_x.shape )\n",
        "\n",
        "\n",
        "# Train the neural network\n",
        "embed_rnn_model = embed_model(input_shape = tmp_x.shape,\n",
        "                              output_sequence_length = max_french_sequence_length,\n",
        "                              english_vocab_size = english_vocab_size+1,\n",
        "                              french_vocab_size = french_vocab_size+1)\n",
        "\n",
        "\n",
        "embed_rnn_model.fit(tmp_x, preproc_french_sentences, batch_size=1024, epochs=10, validation_split=0.2)\n",
        "\n",
        "# Print prediction(s)\n",
        "print(logits_to_text(embed_rnn_model.predict(tmp_x[:1])[0], french_tokenizer))"
      ]
    },
    {
      "cell_type": "markdown",
      "metadata": {
        "id": "kByJofGM3ziQ"
      },
      "source": [
        "### Model 3: Bidirectional RNNs (IMPLEMENTATION)\n",
        "![RNN](images/bidirectional.png)\n",
        "One restriction of a RNN is that it can't see the future input, only the past.  This is where bidirectional recurrent neural networks come in.  They are able to see the future data."
      ]
    },
    {
      "cell_type": "code",
      "execution_count": 32,
      "metadata": {
        "colab": {
          "base_uri": "https://localhost:8080/"
        },
        "id": "Ux-nmCgd3ziQ",
        "outputId": "fa5e0b3f-284f-4888-ab96-c2d46e1ceb81"
      },
      "outputs": [
        {
          "output_type": "stream",
          "name": "stdout",
          "text": [
            "Using Functional API\n"
          ]
        },
        {
          "output_type": "stream",
          "name": "stderr",
          "text": [
            "WARNING:absl:`lr` is deprecated in Keras optimizer, please use `learning_rate` or use the legacy optimizer, e.g.,tf.keras.optimizers.legacy.Adam.\n"
          ]
        },
        {
          "output_type": "stream",
          "name": "stdout",
          "text": [
            "Epoch 1/10\n",
            "108/108 [==============================] - 8s 43ms/step - loss: 2.5553 - accuracy: 0.4716 - val_loss: 1.9290 - val_accuracy: 0.5499\n",
            "Epoch 2/10\n",
            "108/108 [==============================] - 4s 34ms/step - loss: 1.6809 - accuracy: 0.5802 - val_loss: 1.5202 - val_accuracy: 0.5971\n",
            "Epoch 3/10\n",
            "108/108 [==============================] - 4s 36ms/step - loss: 1.4412 - accuracy: 0.6077 - val_loss: 1.3704 - val_accuracy: 0.6214\n",
            "Epoch 4/10\n",
            "108/108 [==============================] - 4s 36ms/step - loss: 1.3191 - accuracy: 0.6308 - val_loss: 1.2665 - val_accuracy: 0.6429\n",
            "Epoch 5/10\n",
            "108/108 [==============================] - 4s 39ms/step - loss: 1.2260 - accuracy: 0.6488 - val_loss: 1.1843 - val_accuracy: 0.6559\n",
            "Epoch 6/10\n",
            "108/108 [==============================] - 4s 36ms/step - loss: 1.1562 - accuracy: 0.6603 - val_loss: 1.1284 - val_accuracy: 0.6660\n",
            "Epoch 7/10\n",
            "108/108 [==============================] - 4s 33ms/step - loss: 1.1101 - accuracy: 0.6675 - val_loss: 1.0889 - val_accuracy: 0.6718\n",
            "Epoch 8/10\n",
            "108/108 [==============================] - 4s 37ms/step - loss: 1.0743 - accuracy: 0.6719 - val_loss: 1.0564 - val_accuracy: 0.6794\n",
            "Epoch 9/10\n",
            "108/108 [==============================] - 4s 34ms/step - loss: 1.0457 - accuracy: 0.6764 - val_loss: 1.0388 - val_accuracy: 0.6755\n",
            "Epoch 10/10\n",
            "108/108 [==============================] - 4s 34ms/step - loss: 1.0191 - accuracy: 0.6804 - val_loss: 1.0035 - val_accuracy: 0.6818\n",
            "1/1 [==============================] - 1s 550ms/step\n",
            "paris jersey est parfois chaud en mois de mai est il en en <PAD> <PAD> <PAD> <PAD> <PAD> <PAD> <PAD> <PAD>\n"
          ]
        }
      ],
      "source": [
        "def bd_model(input_shape, output_sequence_length, english_vocab_size, french_vocab_size):\n",
        "    \"\"\"\n",
        "    Build and train a bidirectional RNN model on x and y\n",
        "    :param input_shape: Tuple of input shape\n",
        "    :param output_sequence_length: Length of output sequence\n",
        "    :param english_vocab_size: Number of unique English words in the dataset\n",
        "    :param french_vocab_size: Number of unique French words in the dataset\n",
        "    :return: Keras model built, but not trained\n",
        "    \"\"\"\n",
        "    # TODO: Implement\n",
        "\n",
        "    #print(\"Debug input_shape =\" , input_shape)\n",
        "    #print(\"Debug output_sequence_length =\" , output_sequence_length)\n",
        "    #print(\"Debug english_vocab_size =\" , english_vocab_size)\n",
        "    #print(\"Debug french_vocab_size =\" , french_vocab_size)\n",
        "\n",
        "    # Hyperparameters\n",
        "    dropout = 0.0\n",
        "    learning_rate = 1e-3\n",
        "\n",
        "    # Choose Sequential or Functional API implementation ('seq' or 'func')\n",
        "    impl='seq'\n",
        "    if impl=='func':\n",
        "        # Sequential Model\n",
        "        print(\"Using Sequential model (Note: this version makes the unitary test to fail: Disable tests to use it)\")\n",
        "        from keras.models import Sequential\n",
        "        model = Sequential()\n",
        "        model.add(Bidirectional(GRU(english_vocab_size, dropout=dropout, return_sequences=True)))\n",
        "        model.add(Dense(french_vocab_size, activation='softmax'))\n",
        "\n",
        "    else:\n",
        "        # model's Functional equivalent\n",
        "        # Note : we could have also used \"Bidirectional(GRU(...))\" instead of buidling the Bidirectional RNNS manually\n",
        "        print(\"Using Functional API\")\n",
        "        from keras.layers import concatenate, add\n",
        "        input_seq = Input(shape=input_shape[1:])\n",
        "        right_rnn = GRU(units=english_vocab_size, return_sequences=True, go_backwards=False)(input_seq)\n",
        "        left_rnn = GRU(units=english_vocab_size, return_sequences=True, go_backwards=True)(input_seq)\n",
        "\n",
        "        # Choose how to merge the 2 rnn layers : add or concatenate\n",
        "        #logits = TimeDistributed(Dense(units=french_vocab_size))(add([right_rnn, left_rnn]))\n",
        "        logits = TimeDistributed(Dense(units=french_vocab_size))(concatenate([right_rnn, left_rnn]))\n",
        "\n",
        "        model = Model(input_seq, Activation('softmax')(logits))\n",
        "\n",
        "    model.compile(loss=sparse_categorical_crossentropy,\n",
        "                  optimizer=Adam(lr=learning_rate),\n",
        "                  metrics=['accuracy'])\n",
        "\n",
        "    return model\n",
        "\n",
        "#tests.test_bd_model(bd_model)\n",
        "\n",
        "\n",
        "# TODO: Train and Print prediction(s)\n",
        "\n",
        "# Pad and Reshape the input to work with a RNN without an Embedding layer\n",
        "tmp_x = pad(preproc_english_sentences, max_french_sequence_length)\n",
        "tmp_x = tmp_x.reshape((-1, preproc_french_sentences.shape[-2], 1))\n",
        "#print(\"Debug tmp_x shape=\", tmp_x.shape )\n",
        "\n",
        "# Train the neural network\n",
        "bd_rnn_model = bd_model(input_shape = tmp_x.shape,\n",
        "                           output_sequence_length = max_french_sequence_length,\n",
        "                           english_vocab_size = english_vocab_size+1,\n",
        "                           french_vocab_size = french_vocab_size+1)\n",
        "\n",
        "#print(model.summary())\n",
        "\n",
        "bd_rnn_model.fit(tmp_x, preproc_french_sentences, batch_size=1024, epochs=10, validation_split=0.2)\n",
        "\n",
        "# Print prediction(s)\n",
        "print(logits_to_text(bd_rnn_model.predict(tmp_x[:1])[0], french_tokenizer))"
      ]
    },
    {
      "cell_type": "markdown",
      "metadata": {
        "id": "q3FhhVy03ziR"
      },
      "source": [
        "### Model 4: Encoder-Decoder (OPTIONAL)\n",
        "Time to look at encoder-decoder models.  This model is made up of an encoder and decoder. The encoder creates a matrix representation of the sentence.  The decoder takes this matrix as input and predicts the translation as output.\n",
        "\n",
        "Create an encoder-decoder model in the cell below."
      ]
    },
    {
      "cell_type": "code",
      "execution_count": 33,
      "metadata": {
        "colab": {
          "base_uri": "https://localhost:8080/"
        },
        "id": "QLtkNOI93ziR",
        "outputId": "361fd083-31af-499a-f42d-07a642975156"
      },
      "outputs": [
        {
          "output_type": "stream",
          "name": "stderr",
          "text": [
            "WARNING:absl:`lr` is deprecated in Keras optimizer, please use `learning_rate` or use the legacy optimizer, e.g.,tf.keras.optimizers.legacy.Adam.\n"
          ]
        },
        {
          "output_type": "stream",
          "name": "stdout",
          "text": [
            "Epoch 1/10\n",
            "108/108 [==============================] - 8s 42ms/step - loss: 2.8478 - accuracy: 0.4569 - val_loss: 2.2320 - val_accuracy: 0.5018\n",
            "Epoch 2/10\n",
            "108/108 [==============================] - 4s 37ms/step - loss: 2.0345 - accuracy: 0.5328 - val_loss: 1.7863 - val_accuracy: 0.5594\n",
            "Epoch 3/10\n",
            "108/108 [==============================] - 4s 33ms/step - loss: 1.6707 - accuracy: 0.5712 - val_loss: 1.5903 - val_accuracy: 0.5797\n",
            "Epoch 4/10\n",
            "108/108 [==============================] - 4s 33ms/step - loss: 1.5471 - accuracy: 0.5855 - val_loss: 1.5109 - val_accuracy: 0.5891\n",
            "Epoch 5/10\n",
            "108/108 [==============================] - 4s 37ms/step - loss: 1.4745 - accuracy: 0.5981 - val_loss: 1.4353 - val_accuracy: 0.6083\n",
            "Epoch 6/10\n",
            "108/108 [==============================] - 4s 36ms/step - loss: 1.3994 - accuracy: 0.6136 - val_loss: 1.3570 - val_accuracy: 0.6246\n",
            "Epoch 7/10\n",
            "108/108 [==============================] - 4s 36ms/step - loss: 1.3283 - accuracy: 0.6278 - val_loss: 1.2941 - val_accuracy: 0.6335\n",
            "Epoch 8/10\n",
            "108/108 [==============================] - 4s 37ms/step - loss: 1.2717 - accuracy: 0.6371 - val_loss: 1.2544 - val_accuracy: 0.6388\n",
            "Epoch 9/10\n",
            "108/108 [==============================] - 4s 34ms/step - loss: 1.2348 - accuracy: 0.6412 - val_loss: 1.2264 - val_accuracy: 0.6402\n",
            "Epoch 10/10\n",
            "108/108 [==============================] - 4s 37ms/step - loss: 1.2095 - accuracy: 0.6436 - val_loss: 1.1892 - val_accuracy: 0.6479\n",
            "1/1 [==============================] - 1s 560ms/step\n",
            "new jersey est parfois agréable en l' mais il est est en en <PAD> <PAD> <PAD> <PAD> <PAD> <PAD> <PAD> <PAD>\n"
          ]
        }
      ],
      "source": [
        "def encdec_model(input_shape, output_sequence_length, english_vocab_size, french_vocab_size):\n",
        "    \"\"\"\n",
        "    Build and train an encoder-decoder model on x and y\n",
        "    :param input_shape: Tuple of input shape\n",
        "    :param output_sequence_length: Length of output sequence\n",
        "    :param english_vocab_size: Number of unique English words in the dataset\n",
        "    :param french_vocab_size: Number of unique French words in the dataset\n",
        "    :return: Keras model built, but not trained\n",
        "    \"\"\"\n",
        "    # OPTIONAL: Implement\n",
        "\n",
        "    #print(\"Debug input_shape =\" , input_shape, \"  input_shape[1:] =\", input_shape[1:], \"  Input length=\", input_shape[1:][0])\n",
        "    #print(\"Debug output_sequence_length =\" , output_sequence_length)\n",
        "    #print(\"Debug english_vocab_size =\" , english_vocab_size)\n",
        "    #print(\"Debug french_vocab_size =\" , french_vocab_size)\n",
        "\n",
        "    # Hyperparameters\n",
        "    embedding_size = 128\n",
        "    rnn_cells = 200\n",
        "    dropout = 0.0\n",
        "    learning_rate = 1e-3\n",
        "\n",
        "    from keras.layers import LSTM\n",
        "\n",
        "    # Input\n",
        "    encoder_input_seq = Input(shape=input_shape[1:], name=\"enc_input\")\n",
        "\n",
        "    # Encoder (Return the internal states of the RNN -> 1 hidden state for GRU cells, 2 hidden states for LSTM cells))\n",
        "    encoder_output, state_t = GRU(units=rnn_cells,\n",
        "                                  dropout=dropout,\n",
        "                                  return_sequences=False,\n",
        "                                  return_state=True,\n",
        "                                  name=\"enc_rnn\")(encoder_input_seq)\n",
        "          #or for LSTM cells: encoder_output, state_h, state_c = LSTM(...)\n",
        "\n",
        "    # Decoder Input\n",
        "    decoder_input_seq = RepeatVector(output_sequence_length)(encoder_output)\n",
        "\n",
        "    # Decoder RNN (Take the encoder returned states as initial states)\n",
        "    decoder_out = GRU(units=rnn_cells,\n",
        "                      dropout=dropout,\n",
        "                      return_sequences=True,\n",
        "                      return_state=False)(decoder_input_seq, initial_state=state_t)\n",
        "                                         #or for LSTM cells: (decoder_input_seq, initial_state=[state_h, state_c])\n",
        "\n",
        "    # Decoder output\n",
        "    logits = TimeDistributed(Dense(units=french_vocab_size))(decoder_out)\n",
        "\n",
        "    # Model\n",
        "    model = Model(encoder_input_seq, Activation('softmax')(logits))\n",
        "    model.compile(loss=sparse_categorical_crossentropy,\n",
        "                  optimizer=Adam(lr=learning_rate),\n",
        "                  metrics=['accuracy'])\n",
        "\n",
        "    return model\n",
        "\n",
        "# Unitary tests\n",
        "#tests.test_encdec_model(encdec_model)\n",
        "\n",
        "\n",
        "# OPTIONAL: Train and Print prediction(s)\n",
        "\n",
        "# Pad and Reshape the input to work with the Embedding layer\n",
        "tmp_x = pad(preproc_english_sentences, max_french_sequence_length)\n",
        "tmp_x = tmp_x.reshape((-1, preproc_french_sentences.shape[-2], 1))\n",
        "#print(\"Debug tmp_x shape=\", tmp_x.shape )\n",
        "\n",
        "# Train the neural network\n",
        "encdec_rnn_model = encdec_model(input_shape = tmp_x.shape,\n",
        "                                output_sequence_length = max_french_sequence_length,\n",
        "                                english_vocab_size = english_vocab_size+1,\n",
        "                                french_vocab_size = french_vocab_size+1)\n",
        "\n",
        "#print(encdec_rnn_model.summary())\n",
        "\n",
        "encdec_rnn_model.fit(tmp_x, preproc_french_sentences, batch_size=1024, epochs=10, validation_split=0.2) # callbacks=[tensorboard]\n",
        "\n",
        "# Print prediction(s)\n",
        "print(logits_to_text(encdec_rnn_model.predict(tmp_x[:1])[0], french_tokenizer))\n",
        "\n",
        ""
      ]
    },
    {
      "cell_type": "markdown",
      "metadata": {
        "id": "qJ8QSz3X3ziR"
      },
      "source": [
        "### Model 5: Custom (IMPLEMENTATION)\n",
        "Use everything you learned from the previous models to create a model that incorporates embedding and a bidirectional rnn into one model."
      ]
    },
    {
      "cell_type": "code",
      "execution_count": 34,
      "metadata": {
        "colab": {
          "base_uri": "https://localhost:8080/"
        },
        "id": "wBD28FBY3ziR",
        "outputId": "65c36c18-e71d-41a3-cd6e-6bf882b5099b"
      },
      "outputs": [
        {
          "output_type": "stream",
          "name": "stdout",
          "text": [
            "Final Model Loaded\n",
            "\n"
          ]
        },
        {
          "output_type": "stream",
          "name": "stderr",
          "text": [
            "WARNING:absl:`lr` is deprecated in Keras optimizer, please use `learning_rate` or use the legacy optimizer, e.g.,tf.keras.optimizers.legacy.Adam.\n"
          ]
        },
        {
          "output_type": "stream",
          "name": "stdout",
          "text": [
            "Model: \"model_5\"\n",
            "_____________________________________________________________________________________________________________________________\n",
            " Layer (type)                        Output Shape                          Param #     Connected to                          \n",
            "=============================================================================================================================\n",
            " input_5 (InputLayer)                [(None, 21)]                          0           []                                    \n",
            "                                                                                                                             \n",
            " embedding_2 (Embedding)             (None, 21, 128)                       25600       ['input_5[0][0]']                     \n",
            "                                                                                                                             \n",
            " lstm (LSTM)                         [(None, 300),                         514800      ['embedding_2[0][0]']                 \n",
            "                                      (None, 300),                                                                           \n",
            "                                      (None, 300)]                                                                           \n",
            "                                                                                                                             \n",
            " lstm_1 (LSTM)                       [(None, 300),                         514800      ['embedding_2[0][0]']                 \n",
            "                                      (None, 300),                                                                           \n",
            "                                      (None, 300)]                                                                           \n",
            "                                                                                                                             \n",
            " concatenate_3 (Concatenate)         (None, 600)                           0           ['lstm[0][0]',                        \n",
            "                                                                                        'lstm_1[0][0]']                      \n",
            "                                                                                                                             \n",
            " repeat_vector_1 (RepeatVector)      (None, 21, 600)                       0           ['concatenate_3[0][0]']               \n",
            "                                                                                                                             \n",
            " concatenate_1 (Concatenate)         (None, 600)                           0           ['lstm[0][1]',                        \n",
            "                                                                                        'lstm_1[0][1]']                      \n",
            "                                                                                                                             \n",
            " concatenate_2 (Concatenate)         (None, 600)                           0           ['lstm[0][2]',                        \n",
            "                                                                                        'lstm_1[0][2]']                      \n",
            "                                                                                                                             \n",
            " lstm_2 (LSTM)                       (None, 21, 600)                       2882400     ['repeat_vector_1[0][0]',             \n",
            "                                                                                        'concatenate_1[0][0]',               \n",
            "                                                                                        'concatenate_2[0][0]']               \n",
            "                                                                                                                             \n",
            " time_distributed_5 (TimeDistribute  (None, 21, 345)                       207345      ['lstm_2[0][0]']                      \n",
            " d)                                                                                                                          \n",
            "                                                                                                                             \n",
            " activation_5 (Activation)           (None, 21, 345)                       0           ['time_distributed_5[0][0]']          \n",
            "                                                                                                                             \n",
            "=============================================================================================================================\n",
            "Total params: 4144945 (15.81 MB)\n",
            "Trainable params: 4144945 (15.81 MB)\n",
            "Non-trainable params: 0 (0.00 Byte)\n",
            "_____________________________________________________________________________________________________________________________\n",
            "None\n",
            "Epoch 1/10\n",
            "108/108 [==============================] - 30s 218ms/step - loss: 2.7412 - accuracy: 0.4619 - val_loss: 2.0623 - val_accuracy: 0.5300\n",
            "Epoch 2/10\n",
            "108/108 [==============================] - 22s 208ms/step - loss: 1.6065 - accuracy: 0.5854 - val_loss: 1.3494 - val_accuracy: 0.6337\n",
            "Epoch 3/10\n",
            "108/108 [==============================] - 22s 205ms/step - loss: 1.2387 - accuracy: 0.6562 - val_loss: 1.1037 - val_accuracy: 0.6870\n",
            "Epoch 4/10\n",
            "108/108 [==============================] - 24s 222ms/step - loss: 1.0340 - accuracy: 0.7013 - val_loss: 0.9241 - val_accuracy: 0.7298\n",
            "Epoch 5/10\n",
            "108/108 [==============================] - 24s 223ms/step - loss: 0.8871 - accuracy: 0.7374 - val_loss: 0.7957 - val_accuracy: 0.7598\n",
            "Epoch 6/10\n",
            "108/108 [==============================] - 23s 211ms/step - loss: 0.7611 - accuracy: 0.7695 - val_loss: 0.6799 - val_accuracy: 0.7934\n",
            "Epoch 7/10\n",
            "108/108 [==============================] - 24s 219ms/step - loss: 0.6522 - accuracy: 0.8006 - val_loss: 0.5720 - val_accuracy: 0.8270\n",
            "Epoch 8/10\n",
            "108/108 [==============================] - 24s 220ms/step - loss: 0.5309 - accuracy: 0.8380 - val_loss: 0.4461 - val_accuracy: 0.8681\n",
            "Epoch 9/10\n",
            "108/108 [==============================] - 23s 212ms/step - loss: 0.4271 - accuracy: 0.8695 - val_loss: 0.3460 - val_accuracy: 0.8990\n",
            "Epoch 10/10\n",
            "108/108 [==============================] - 23s 213ms/step - loss: 0.3475 - accuracy: 0.8945 - val_loss: 0.2834 - val_accuracy: 0.9180\n"
          ]
        },
        {
          "output_type": "stream",
          "name": "stderr",
          "text": [
            "WARNING:tensorflow:5 out of the last 5 calls to <function Model.make_predict_function.<locals>.predict_function at 0x7ce8ac8713f0> triggered tf.function retracing. Tracing is expensive and the excessive number of tracings could be due to (1) creating @tf.function repeatedly in a loop, (2) passing tensors with different shapes, (3) passing Python objects instead of tensors. For (1), please define your @tf.function outside of the loop. For (2), @tf.function has reduce_retracing=True option that can avoid unnecessary retracing. For (3), please refer to https://www.tensorflow.org/guide/function#controlling_retracing and https://www.tensorflow.org/api_docs/python/tf/function for  more details.\n"
          ]
        },
        {
          "output_type": "stream",
          "name": "stdout",
          "text": [
            "1/1 [==============================] - 1s 913ms/step\n",
            "new jersey est parfois calme pendant l' et il automne neigeux neigeux avril <PAD> <PAD> <PAD> <PAD> <PAD> <PAD> <PAD> <PAD>\n"
          ]
        }
      ],
      "source": [
        "def model_final(input_shape, output_sequence_length, english_vocab_size, french_vocab_size):\n",
        "    \"\"\"\n",
        "    Build and train a model that incorporates embedding, encoder-decoder, and bidirectional RNN on x and y\n",
        "    :param input_shape: Tuple of input shape\n",
        "    :param output_sequence_length: Length of output sequence\n",
        "    :param english_vocab_size: Number of unique English words in the dataset\n",
        "    :param french_vocab_size: Number of unique French words in the dataset\n",
        "    :return: Keras model built, but not trained\n",
        "    \"\"\"\n",
        "\n",
        "    # TODO: Train the final model\n",
        "    #print(\"Debug input_shape =\" , input_shape, \"  input_shape[1:] =\", input_shape[1:], \"  Input length=\", input_shape[1:][0])\n",
        "    #print(\"Debug output_sequence_length =\" , output_sequence_length)\n",
        "    #print(\"Debug english_vocab_size =\" , english_vocab_size)\n",
        "    #print(\"Debug french_vocab_size =\" , french_vocab_size)\n",
        "\n",
        "\n",
        "    ## Model_final is a seq2seq model (encoder-decoder) using embedding and bidirectional LSTM\n",
        "\n",
        "    # Hyperparameters\n",
        "    embedding_size = 128\n",
        "    rnn_cells = 300\n",
        "    dropout = 0.2\n",
        "    learning_rate = 1e-3\n",
        "\n",
        "    from keras.layers import LSTM, concatenate\n",
        "\n",
        "    # Input and embedding\n",
        "    encoder_input_seq = Input(shape=input_shape[1:])\n",
        "    embedded_input_seq = Embedding(input_dim = english_vocab_size,\n",
        "                                   output_dim = embedding_size,\n",
        "                                   input_length=input_shape[1:][0])(encoder_input_seq)\n",
        "\n",
        "    ## Note Bidirectional LSTM is used on the encoder side (see https://arxiv.org/pdf/1609.08144.pdf )\n",
        "    ## Alternate version : Encoder RNN Bidirectional layer (Using the Keras Bidirectional layer wrappers)\n",
        "    #encoder_output, forward_state_h, forward_state_c, backward_state_h, backward_state_c = Bidirectional(LSTM(units=rnn_cells,\n",
        "    #                                                                                                          dropout=dropout,\n",
        "    #                                                                                                          return_sequences=False,\n",
        "    #                                                                                                          return_state=True))(embedded_input_seq)\n",
        "\n",
        "    # Encoder Forward RNN layer\n",
        "    encoder_forward_output, forward_state_h, forward_state_c = LSTM(units=rnn_cells,\n",
        "                                                                    dropout=dropout,\n",
        "                                                                    return_sequences=False,\n",
        "                                                                    return_state=True,\n",
        "                                                                    go_backwards=False)(embedded_input_seq)\n",
        "\n",
        "    # Encoder backward RNN layer\n",
        "    encoder_backward_output, backward_state_h, backward_state_c = LSTM(units=rnn_cells,\n",
        "                                                                       dropout=dropout,\n",
        "                                                                       return_sequences=False,\n",
        "                                                                       return_state=True,\n",
        "                                                                       go_backwards=True)(embedded_input_seq)\n",
        "\n",
        "    # Encoder output and states : Merge the LSTM Forward and Backward ouputs (using 'concatenate' method)\n",
        "    state_h = concatenate([forward_state_h, backward_state_h])\n",
        "    state_c = concatenate([forward_state_c, backward_state_c])\n",
        "    encoder_output = concatenate([encoder_forward_output, encoder_backward_output])\n",
        "\n",
        "    # Decoder Input\n",
        "    decoder_input_seq = RepeatVector(output_sequence_length)(encoder_output)\n",
        "\n",
        "    # Decoder RNN layer\n",
        "    # Note : we need twice more LSTM cells as we have concatenated backward and forward LSTM layers in encoder\n",
        "    decoder_output = LSTM(units=rnn_cells*2,\n",
        "                                  dropout=dropout,\n",
        "                                  return_sequences=True,\n",
        "                                  return_state=False,\n",
        "                                  go_backwards=False)(decoder_input_seq, initial_state=[state_h, state_c])\n",
        "\n",
        "    # Decoder output\n",
        "    logits = TimeDistributed(Dense(units=french_vocab_size))(decoder_output)\n",
        "\n",
        "    # Model\n",
        "    model = Model(encoder_input_seq, Activation('softmax')(logits))\n",
        "    model.compile(loss=sparse_categorical_crossentropy,\n",
        "                  optimizer=Adam(lr=learning_rate),\n",
        "                  metrics=['accuracy'])\n",
        "\n",
        "    return model\n",
        "\n",
        "#tests.test_model_final(model_final)\n",
        "print('Final Model Loaded\\n')\n",
        "\n",
        "# Train and Print prediction(s)\n",
        "\n",
        "# Pad the input to work with the Embedding layer\n",
        "tmp_x = pad(preproc_english_sentences, max_french_sequence_length)\n",
        "#print(\"Debug tmp_x shape=\", tmp_x.shape )\n",
        "\n",
        "\n",
        "# Train the neural network\n",
        "final_rnn_model = model_final(input_shape = tmp_x.shape,\n",
        "                              output_sequence_length = max_french_sequence_length,\n",
        "                              english_vocab_size = english_vocab_size+1,\n",
        "                              french_vocab_size = french_vocab_size+1)\n",
        "\n",
        "print(final_rnn_model.summary(line_length=125))\n",
        "\n",
        "\n",
        "final_rnn_model.fit(tmp_x, preproc_french_sentences, batch_size=1024, epochs=10, validation_split=0.2)\n",
        "\n",
        "# Print prediction(s)\n",
        "print(logits_to_text(final_rnn_model.predict(tmp_x[:1])[0], french_tokenizer))\n",
        ""
      ]
    },
    {
      "cell_type": "markdown",
      "metadata": {
        "id": "DPQma4Xd3ziR"
      },
      "source": [
        "## Prediction (IMPLEMENTATION)"
      ]
    },
    {
      "cell_type": "code",
      "execution_count": 35,
      "metadata": {
        "colab": {
          "base_uri": "https://localhost:8080/"
        },
        "id": "efrYaH8R3ziR",
        "outputId": "8f38f365-9d8d-4858-92ab-6cbb33f4aef9"
      },
      "outputs": [
        {
          "output_type": "stream",
          "name": "stderr",
          "text": [
            "WARNING:absl:`lr` is deprecated in Keras optimizer, please use `learning_rate` or use the legacy optimizer, e.g.,tf.keras.optimizers.legacy.Adam.\n"
          ]
        },
        {
          "output_type": "stream",
          "name": "stdout",
          "text": [
            "Epoch 1/20\n",
            "108/108 [==============================] - 28s 213ms/step - loss: 2.5309 - accuracy: 0.4842 - val_loss: 1.6495 - val_accuracy: 0.5736\n",
            "Epoch 2/20\n",
            "108/108 [==============================] - 22s 206ms/step - loss: 1.4263 - accuracy: 0.6174 - val_loss: 1.2994 - val_accuracy: 0.6473\n",
            "Epoch 3/20\n",
            "108/108 [==============================] - 22s 207ms/step - loss: 1.1420 - accuracy: 0.6818 - val_loss: 1.0126 - val_accuracy: 0.7089\n",
            "Epoch 4/20\n",
            "108/108 [==============================] - 22s 201ms/step - loss: 0.9783 - accuracy: 0.7150 - val_loss: 0.9539 - val_accuracy: 0.7172\n",
            "Epoch 5/20\n",
            "108/108 [==============================] - 21s 195ms/step - loss: 0.8710 - accuracy: 0.7379 - val_loss: 0.7867 - val_accuracy: 0.7620\n",
            "Epoch 6/20\n",
            "108/108 [==============================] - 22s 206ms/step - loss: 0.7773 - accuracy: 0.7618 - val_loss: 0.6988 - val_accuracy: 0.7861\n",
            "Epoch 7/20\n",
            "108/108 [==============================] - 22s 204ms/step - loss: 0.6753 - accuracy: 0.7918 - val_loss: 0.6089 - val_accuracy: 0.8109\n",
            "Epoch 8/20\n",
            "108/108 [==============================] - 22s 205ms/step - loss: 0.5945 - accuracy: 0.8156 - val_loss: 0.5444 - val_accuracy: 0.8308\n",
            "Epoch 9/20\n",
            "108/108 [==============================] - 21s 196ms/step - loss: 0.5217 - accuracy: 0.8375 - val_loss: 0.4487 - val_accuracy: 0.8637\n",
            "Epoch 10/20\n",
            "108/108 [==============================] - 21s 196ms/step - loss: 0.4457 - accuracy: 0.8613 - val_loss: 0.4037 - val_accuracy: 0.8767\n",
            "Epoch 11/20\n",
            "108/108 [==============================] - 22s 205ms/step - loss: 0.3795 - accuracy: 0.8812 - val_loss: 0.3145 - val_accuracy: 0.9035\n",
            "Epoch 12/20\n",
            "108/108 [==============================] - 22s 205ms/step - loss: 0.3148 - accuracy: 0.9020 - val_loss: 0.2567 - val_accuracy: 0.9244\n",
            "Epoch 13/20\n",
            "108/108 [==============================] - 22s 208ms/step - loss: 0.2623 - accuracy: 0.9193 - val_loss: 0.2179 - val_accuracy: 0.9361\n",
            "Epoch 14/20\n",
            "108/108 [==============================] - 21s 197ms/step - loss: 0.2259 - accuracy: 0.9301 - val_loss: 0.1885 - val_accuracy: 0.9437\n",
            "Epoch 15/20\n",
            "108/108 [==============================] - 21s 198ms/step - loss: 0.2020 - accuracy: 0.9373 - val_loss: 0.1758 - val_accuracy: 0.9464\n",
            "Epoch 16/20\n",
            "108/108 [==============================] - 21s 198ms/step - loss: 0.1789 - accuracy: 0.9439 - val_loss: 0.1551 - val_accuracy: 0.9523\n",
            "Epoch 17/20\n",
            "108/108 [==============================] - 21s 196ms/step - loss: 0.1629 - accuracy: 0.9486 - val_loss: 0.1536 - val_accuracy: 0.9515\n",
            "Epoch 18/20\n",
            "108/108 [==============================] - 21s 195ms/step - loss: 0.1474 - accuracy: 0.9532 - val_loss: 0.1267 - val_accuracy: 0.9604\n",
            "Epoch 19/20\n",
            "108/108 [==============================] - 22s 204ms/step - loss: 0.1339 - accuracy: 0.9574 - val_loss: 0.1274 - val_accuracy: 0.9594\n",
            "Epoch 20/20\n",
            "108/108 [==============================] - 21s 195ms/step - loss: 0.1245 - accuracy: 0.9604 - val_loss: 0.1124 - val_accuracy: 0.9647\n"
          ]
        },
        {
          "output_type": "stream",
          "name": "stderr",
          "text": [
            "WARNING:tensorflow:6 out of the last 6 calls to <function Model.make_predict_function.<locals>.predict_function at 0x7ce8adc901f0> triggered tf.function retracing. Tracing is expensive and the excessive number of tracings could be due to (1) creating @tf.function repeatedly in a loop, (2) passing tensors with different shapes, (3) passing Python objects instead of tensors. For (1), please define your @tf.function outside of the loop. For (2), @tf.function has reduce_retracing=True option that can avoid unnecessary retracing. For (3), please refer to https://www.tensorflow.org/guide/function#controlling_retracing and https://www.tensorflow.org/api_docs/python/tf/function for  more details.\n"
          ]
        },
        {
          "output_type": "stream",
          "name": "stdout",
          "text": [
            "1/1 [==============================] - 1s 927ms/step\n",
            "Sample 1:\n",
            "il a vu un vieux camion jaune <PAD> <PAD> <PAD> <PAD> <PAD> <PAD> <PAD> <PAD> <PAD> <PAD> <PAD> <PAD> <PAD> <PAD>\n",
            "Il a vu un vieux camion jaune\n",
            "Sample 2:\n",
            "new jersey est parfois calme pendant l' automne et il est neigeux en avril <PAD> <PAD> <PAD> <PAD> <PAD> <PAD> <PAD>\n",
            "new jersey est parfois calme pendant l' automne et il est neigeux en avril <PAD> <PAD> <PAD> <PAD> <PAD> <PAD> <PAD>\n"
          ]
        }
      ],
      "source": [
        "def final_predictions(x, y, x_tk, y_tk):\n",
        "    \"\"\"\n",
        "    Gets predictions using the final model\n",
        "    :param x: Preprocessed English data\n",
        "    :param y: Preprocessed French data\n",
        "    :param x_tk: English tokenizer\n",
        "    :param y_tk: French tokenizer\n",
        "    \"\"\"\n",
        "    # TODO: Train neural network using model_final\n",
        "    model = model_final(input_shape = x.shape,\n",
        "                        output_sequence_length = y.shape[1],\n",
        "                        english_vocab_size = len(x_tk.word_index)+1,\n",
        "                        french_vocab_size = len(y_tk.word_index)+1)\n",
        "\n",
        "    model.fit(x, y, batch_size=1024, epochs=20, validation_split=0.2)\n",
        "\n",
        "    ## DON'T EDIT ANYTHING BELOW THIS LINE\n",
        "    y_id_to_word = {value: key for key, value in y_tk.word_index.items()}\n",
        "    y_id_to_word[0] = '<PAD>'\n",
        "\n",
        "    sentence = 'he saw a old yellow truck'\n",
        "    sentence = [x_tk.word_index[word] for word in sentence.split()]\n",
        "    sentence = pad_sequences([sentence], maxlen=x.shape[-1], padding='post')\n",
        "    sentences = np.array([sentence[0], x[0]])\n",
        "    predictions = model.predict(sentences, len(sentences))\n",
        "\n",
        "    print('Sample 1:')\n",
        "    print(' '.join([y_id_to_word[np.argmax(x)] for x in predictions[0]]))\n",
        "    print('Il a vu un vieux camion jaune')\n",
        "\n",
        "    print('Sample 2:')\n",
        "    print(' '.join([y_id_to_word[np.argmax(x)] for x in predictions[1]]))\n",
        "    print(' '.join([y_id_to_word[np.max(x)] for x in y[0]]))\n",
        "\n",
        "final_predictions(preproc_english_sentences, preproc_french_sentences, english_tokenizer, french_tokenizer)"
      ]
    },
    {
      "cell_type": "markdown",
      "metadata": {
        "id": "OnpZOddn3ziS"
      },
      "source": [
        "## Optional Enhancements\n",
        "\n",
        "This project focuses on learning various network architectures for machine translation, but we don't evaluate the models according to best practices by splitting the data into separate test & training sets -- so the model accuracy is overstated. Use the [`sklearn.model_selection.train_test_split()`](http://scikit-learn.org/stable/modules/generated/sklearn.model_selection.train_test_split.html) function to create separate training & test datasets, then retrain each of the models using only the training set and evaluate the prediction accuracy using the hold out test set. Does the \"best\" model change?"
      ]
    },
    {
      "cell_type": "code",
      "source": [
        "from sklearn.model_selection import train_test_split\n",
        "\n",
        "def final_predictions(x, y, x_tk, y_tk):\n",
        "    \"\"\"\n",
        "    Gets predictions using the final model\n",
        "    :param x: Preprocessed English data\n",
        "    :param y: Preprocessed French data\n",
        "    :param x_tk: English tokenizer\n",
        "    :param y_tk: French tokenizer\n",
        "    \"\"\"\n",
        "    # Split the data into training and testing sets\n",
        "    x_train, x_test, y_train, y_test = train_test_split(x, y, test_size=0.2, random_state=42)\n",
        "\n",
        "    # TODO: Train neural network using model_final\n",
        "    model = model_final(input_shape=x_train.shape,\n",
        "                        output_sequence_length=y_train.shape[1],\n",
        "                        english_vocab_size=len(x_tk.word_index) + 1,\n",
        "                        french_vocab_size=len(y_tk.word_index) + 1)\n",
        "\n",
        "    model.fit(x_train, y_train, batch_size=1024, epochs=20, validation_split=0.2)\n",
        "\n",
        "    # Evaluate the model on the test data\n",
        "    loss, accuracy = model.evaluate(x_test, y_test, verbose=0)\n",
        "    print(f'Test Loss: {loss:.4f}, Test Accuracy: {accuracy:.4f}')\n",
        "\n",
        "     ## DON'T EDIT ANYTHING BELOW THIS LINE\n",
        "    y_id_to_word = {value: key for key, value in y_tk.word_index.items()}\n",
        "    y_id_to_word[0] = '<PAD>'\n",
        "\n",
        "    sentence = 'he saw a old yellow truck'\n",
        "    sentence = [x_tk.word_index[word] for word in sentence.split()]\n",
        "    sentence = pad_sequences([sentence], maxlen=x.shape[-1], padding='post')\n",
        "    sentences = np.array([sentence[0], x[0]])\n",
        "    predictions = model.predict(sentences, len(sentences))\n",
        "\n",
        "    print('Sample 1:')\n",
        "    print(' '.join([y_id_to_word[np.argmax(x)] for x in predictions[0]]))\n",
        "    print('Il a vu un vieux camion jaune')\n",
        "\n",
        "    print('Sample 2:')\n",
        "    print(' '.join([y_id_to_word[np.argmax(x)] for x in predictions[1]]))\n",
        "    print(' '.join([y_id_to_word[np.max(x)] for x in y[0]]))\n",
        "    return model\n",
        "\n",
        "model=final_predictions(preproc_english_sentences, preproc_french_sentences, english_tokenizer, french_tokenizer)"
      ],
      "metadata": {
        "colab": {
          "base_uri": "https://localhost:8080/"
        },
        "id": "kI6sHRdrQbay",
        "outputId": "93fdbabc-8f8b-49de-ab37-c5fb3eef63e3"
      },
      "execution_count": 55,
      "outputs": [
        {
          "output_type": "stream",
          "name": "stderr",
          "text": [
            "WARNING:absl:`lr` is deprecated in Keras optimizer, please use `learning_rate` or use the legacy optimizer, e.g.,tf.keras.optimizers.legacy.Adam.\n"
          ]
        },
        {
          "output_type": "stream",
          "name": "stdout",
          "text": [
            "Epoch 1/20\n",
            "87/87 [==============================] - 27s 237ms/step - loss: 2.8335 - accuracy: 0.4526 - val_loss: 1.9475 - val_accuracy: 0.5352\n",
            "Epoch 2/20\n",
            "87/87 [==============================] - 19s 216ms/step - loss: 1.6502 - accuracy: 0.5752 - val_loss: 1.3858 - val_accuracy: 0.6265\n",
            "Epoch 3/20\n",
            "87/87 [==============================] - 18s 209ms/step - loss: 1.3028 - accuracy: 0.6408 - val_loss: 1.2192 - val_accuracy: 0.6582\n",
            "Epoch 4/20\n",
            "87/87 [==============================] - 17s 193ms/step - loss: 1.1625 - accuracy: 0.6724 - val_loss: 1.0623 - val_accuracy: 0.6965\n",
            "Epoch 5/20\n",
            "87/87 [==============================] - 18s 210ms/step - loss: 1.0356 - accuracy: 0.6992 - val_loss: 1.0022 - val_accuracy: 0.7056\n",
            "Epoch 6/20\n",
            "87/87 [==============================] - 17s 197ms/step - loss: 0.9460 - accuracy: 0.7196 - val_loss: 0.8881 - val_accuracy: 0.7339\n",
            "Epoch 7/20\n",
            "87/87 [==============================] - 18s 211ms/step - loss: 0.8586 - accuracy: 0.7405 - val_loss: 0.7954 - val_accuracy: 0.7569\n",
            "Epoch 8/20\n",
            "87/87 [==============================] - 18s 208ms/step - loss: 0.7797 - accuracy: 0.7613 - val_loss: 0.7084 - val_accuracy: 0.7832\n",
            "Epoch 9/20\n",
            "87/87 [==============================] - 17s 193ms/step - loss: 0.6892 - accuracy: 0.7860 - val_loss: 0.6269 - val_accuracy: 0.8031\n",
            "Epoch 10/20\n",
            "87/87 [==============================] - 18s 210ms/step - loss: 0.6125 - accuracy: 0.8064 - val_loss: 0.5526 - val_accuracy: 0.8250\n",
            "Epoch 11/20\n",
            "87/87 [==============================] - 17s 195ms/step - loss: 0.5443 - accuracy: 0.8245 - val_loss: 0.4877 - val_accuracy: 0.8426\n",
            "Epoch 12/20\n",
            "87/87 [==============================] - 18s 212ms/step - loss: 0.4759 - accuracy: 0.8449 - val_loss: 0.4244 - val_accuracy: 0.8631\n",
            "Epoch 13/20\n",
            "87/87 [==============================] - 18s 209ms/step - loss: 0.4139 - accuracy: 0.8664 - val_loss: 0.3964 - val_accuracy: 0.8709\n",
            "Epoch 14/20\n",
            "87/87 [==============================] - 18s 210ms/step - loss: 0.3577 - accuracy: 0.8862 - val_loss: 0.3087 - val_accuracy: 0.9057\n",
            "Epoch 15/20\n",
            "87/87 [==============================] - 17s 193ms/step - loss: 0.3042 - accuracy: 0.9051 - val_loss: 0.2737 - val_accuracy: 0.9173\n",
            "Epoch 16/20\n",
            "87/87 [==============================] - 17s 196ms/step - loss: 0.2652 - accuracy: 0.9179 - val_loss: 0.2534 - val_accuracy: 0.9230\n",
            "Epoch 17/20\n",
            "87/87 [==============================] - 18s 211ms/step - loss: 0.2305 - accuracy: 0.9289 - val_loss: 0.2019 - val_accuracy: 0.9382\n",
            "Epoch 18/20\n",
            "87/87 [==============================] - 17s 195ms/step - loss: 0.2061 - accuracy: 0.9359 - val_loss: 0.1882 - val_accuracy: 0.9416\n",
            "Epoch 19/20\n",
            "87/87 [==============================] - 17s 197ms/step - loss: 0.1844 - accuracy: 0.9424 - val_loss: 0.1688 - val_accuracy: 0.9469\n",
            "Epoch 20/20\n",
            "87/87 [==============================] - 17s 197ms/step - loss: 0.1705 - accuracy: 0.9462 - val_loss: 0.1656 - val_accuracy: 0.9469\n",
            "Test Loss: 0.1570, Test Accuracy: 0.9504\n",
            "1/1 [==============================] - 2s 2s/step\n",
            "Sample 1:\n",
            "il a vu un vieux camion jaune <PAD> <PAD> <PAD> <PAD> <PAD> <PAD> <PAD> <PAD> <PAD> <PAD> <PAD> <PAD> <PAD> <PAD>\n",
            "Il a vu un vieux camion jaune\n",
            "Sample 2:\n",
            "new jersey est parfois calme à l'automne et il est et il est neigeux <PAD> avril <PAD> <PAD> <PAD> <PAD> <PAD>\n",
            "new jersey est parfois calme pendant l' automne et il est neigeux en avril <PAD> <PAD> <PAD> <PAD> <PAD> <PAD> <PAD>\n"
          ]
        }
      ]
    },
    {
      "cell_type": "code",
      "source": [
        "import nltk\n",
        "from nltk.corpus import stopwords\n",
        "\n",
        "# Download the stopwords dataset (only need to do this once)\n",
        "nltk.download('stopwords')\n",
        "\n",
        "# Get the list of stopwords for a specific language, for example, English\n",
        "stop_words = set(stopwords.words('english'))\n",
        "import string"
      ],
      "metadata": {
        "colab": {
          "base_uri": "https://localhost:8080/"
        },
        "id": "YGhq2yuuffFu",
        "outputId": "37ebced0-9005-417f-9024-a8885ac4cdcf"
      },
      "execution_count": 69,
      "outputs": [
        {
          "output_type": "stream",
          "name": "stderr",
          "text": [
            "[nltk_data] Downloading package stopwords to /root/nltk_data...\n",
            "[nltk_data]   Package stopwords is already up-to-date!\n"
          ]
        }
      ]
    },
    {
      "cell_type": "code",
      "source": [
        "from sklearn.model_selection import train_test_split\n",
        "\n",
        "def final_predictions(x, y, x_tk, y_tk,model):\n",
        "    \"\"\"\n",
        "    Gets predictions using the final model\n",
        "    :param x: Preprocessed English data\n",
        "    :param y: Preprocessed French data\n",
        "    :param x_tk: English tokenizer\n",
        "    :param y_tk: French tokenizer\n",
        "    \"\"\"\n",
        "    # Split the data into training and testing sets\n",
        "     ## DON'T EDIT ANYTHING BELOW THIS LINE\n",
        "    y_id_to_word = {value: key for key, value in y_tk.word_index.items()}\n",
        "    y_id_to_word[0] = '<PAD>'\n",
        "\n",
        "    sentence = english_sentences[1000]\n",
        "    sentence = [x_tk.word_index[word] for word in sentence.split() if word not in string.punctuation]\n",
        "    sentence = pad_sequences([sentence], maxlen=x.shape[-1], padding='post')\n",
        "    sentences = np.array([sentence[0], x[0]])\n",
        "    predictions = model.predict(sentences, len(sentences))\n",
        "\n",
        "    print('Sample 1:')\n",
        "    print(english_sentences[1000])\n",
        "    print(' '.join([y_id_to_word[np.argmax(x)] for x in predictions[0]]))\n",
        "    print(french_sentences[1000])\n",
        "\n",
        "\n",
        "final_predictions(preproc_english_sentences, preproc_french_sentences, english_tokenizer, french_tokenizer,model)"
      ],
      "metadata": {
        "colab": {
          "base_uri": "https://localhost:8080/"
        },
        "id": "je3Zr58na42Q",
        "outputId": "f294af98-52e5-4a6a-8238-5bd1b373580b"
      },
      "execution_count": 74,
      "outputs": [
        {
          "output_type": "stream",
          "name": "stdout",
          "text": [
            "1/1 [==============================] - 0s 31ms/step\n",
            "Sample 1:\n",
            "they like strawberries , pears , and bananas .\n",
            "ils aiment les fraises les poires et les bananes <PAD> <PAD> <PAD> <PAD> <PAD> <PAD> <PAD> <PAD> <PAD> <PAD> <PAD> <PAD>\n",
            "ils aiment les fraises , les poires et les bananes .\n"
          ]
        }
      ]
    }
  ],
  "metadata": {
    "kernelspec": {
      "display_name": "Python 3",
      "name": "python3"
    },
    "language_info": {
      "codemirror_mode": {
        "name": "ipython",
        "version": 3
      },
      "file_extension": ".py",
      "mimetype": "text/x-python",
      "name": "python",
      "nbconvert_exporter": "python",
      "pygments_lexer": "ipython3",
      "version": "3.5.5"
    },
    "colab": {
      "provenance": [],
      "gpuType": "T4"
    },
    "accelerator": "GPU"
  },
  "nbformat": 4,
  "nbformat_minor": 0
}